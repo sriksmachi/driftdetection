{
  "cells": [
    {
      "cell_type": "code",
      "source": [
        "# azureml-core of version 1.0.72 or higher is required\r\n",
        "from azureml.core import Workspace, Dataset, Datastore\r\n",
        "import pandas as pd\r\n",
        "import numpy\r\n",
        "import warnings\r\n",
        "from datetime import datetime, timedelta\r\n",
        "from azureml.datadrift import DataDriftDetector\r\n",
        "warnings.simplefilter(action='ignore', category=FutureWarning)"
      ],
      "outputs": [],
      "execution_count": 1,
      "metadata": {
        "jupyter": {
          "source_hidden": false,
          "outputs_hidden": false
        },
        "nteract": {
          "transient": {
            "deleting": false
          }
        },
        "gather": {
          "logged": 1635339391948
        }
      }
    },
    {
      "cell_type": "code",
      "source": [
        "ws = Workspace.from_config()\r\n",
        "\r\n",
        "dstore = Datastore.get(ws, 'workspaceblobstore')\r\n",
        "\r\n",
        "df = pd.read_csv('data/loan_ds_clean.csv')\r\n",
        "\r\n",
        "df.head()\r\n",
        "\r\n",
        "df['date'] = pd.to_datetime(df['issue_d'])\r\n",
        "\r\n",
        "print(f'Number of records in baseline: {len(df)}')\r\n",
        "\r\n",
        "cutoff_date =  '2010-10-01'\r\n",
        "\r\n",
        "df[df.date > cutoff_date]['emp_length'] = numpy.random.randint(0,20)\r\n",
        "\r\n",
        "df[df.date > cutoff_date]['loan_amnt'] = df[df.date > cutoff_date]['loan_amnt'] * 1.5\r\n",
        "\r\n",
        "df[df.date > cutoff_date]['annual_inc'] = df[df.date > cutoff_date]['annual_inc'] * 1.5\r\n",
        "\r\n",
        "df[df.date > cutoff_date]['funded_amnt_inv'] = df[df.date > cutoff_date]['funded_amnt_inv'] * 2\r\n",
        "\r\n",
        "df[df.date > cutoff_date]['int_rate'] = df[df.date > cutoff_date]['int_rate'] * 2\r\n",
        "\r\n",
        "df.to_csv('data/loan_ds_clean.csv')\r\n",
        "\r\n",
        "dstore.upload(src_dir='data', target_path='data', overwrite=True)\r\n",
        "\r\n",
        "data_set = Dataset.Tabular.from_delimited_files((dstore, 'data/loan_ds_clean.csv'))\r\n",
        "\r\n",
        "# convert to timseries dataset\r\n",
        "data_set = data_set.with_timestamp_columns('date', validate=True)\r\n",
        "\r\n",
        "# register the dataset\r\n",
        "data_set = data_set.register(ws, name='loan_ds', create_new_version=True)\r\n",
        "\r\n",
        "print('Target dataset registered!')"
      ],
      "outputs": [
        {
          "output_type": "stream",
          "name": "stdout",
          "text": "Number of records in baseline: 36294\nUploading an estimated of 6 files\nUploading data/.amlignore\nUploaded data/.amlignore, 1 files out of an estimated total of 6\nUploading data/.amlignore.amltmp\nUploaded data/.amlignore.amltmp, 2 files out of an estimated total of 6\nUploading data/house_pricing.csv\nUploaded data/house_pricing.csv, 3 files out of an estimated total of 6\nUploading data/house_pricing_target.csv\nUploaded data/house_pricing_target.csv, 4 files out of an estimated total of 6\nUploading data/loan_ds_clean.csv\nUploaded data/loan_ds_clean.csv, 5 files out of an estimated total of 6\nUploading data/loan_ds_target.csv\nUploaded data/loan_ds_target.csv, 6 files out of an estimated total of 6\nUploaded 6 files\nTarget dataset registered!\n"
        },
        {
          "output_type": "stream",
          "name": "stderr",
          "text": "/anaconda/envs/azureml_py36/lib/python3.6/site-packages/ipykernel_launcher.py:15: SettingWithCopyWarning: \nA value is trying to be set on a copy of a slice from a DataFrame.\nTry using .loc[row_indexer,col_indexer] = value instead\n\nSee the caveats in the documentation: http://pandas.pydata.org/pandas-docs/stable/user_guide/indexing.html#returning-a-view-versus-a-copy\n  from ipykernel import kernelapp as app\n/anaconda/envs/azureml_py36/lib/python3.6/site-packages/ipykernel_launcher.py:17: SettingWithCopyWarning: \nA value is trying to be set on a copy of a slice from a DataFrame.\nTry using .loc[row_indexer,col_indexer] = value instead\n\nSee the caveats in the documentation: http://pandas.pydata.org/pandas-docs/stable/user_guide/indexing.html#returning-a-view-versus-a-copy\n/anaconda/envs/azureml_py36/lib/python3.6/site-packages/ipykernel_launcher.py:19: SettingWithCopyWarning: \nA value is trying to be set on a copy of a slice from a DataFrame.\nTry using .loc[row_indexer,col_indexer] = value instead\n\nSee the caveats in the documentation: http://pandas.pydata.org/pandas-docs/stable/user_guide/indexing.html#returning-a-view-versus-a-copy\n/anaconda/envs/azureml_py36/lib/python3.6/site-packages/ipykernel_launcher.py:21: SettingWithCopyWarning: \nA value is trying to be set on a copy of a slice from a DataFrame.\nTry using .loc[row_indexer,col_indexer] = value instead\n\nSee the caveats in the documentation: http://pandas.pydata.org/pandas-docs/stable/user_guide/indexing.html#returning-a-view-versus-a-copy\n/anaconda/envs/azureml_py36/lib/python3.6/site-packages/ipykernel_launcher.py:23: SettingWithCopyWarning: \nA value is trying to be set on a copy of a slice from a DataFrame.\nTry using .loc[row_indexer,col_indexer] = value instead\n\nSee the caveats in the documentation: http://pandas.pydata.org/pandas-docs/stable/user_guide/indexing.html#returning-a-view-versus-a-copy\n/anaconda/envs/azureml_py36/lib/python3.6/site-packages/azureml/data/dataset_factory.py:376: UserWarning: Ambiguous datetime formats inferred for columns ['issue_d', 'earliest_cr_line'] are resolved as \"month-day\". Desired format can be specified by `set_column_types`.\n  .format(column_types_builder.ambiguous_date_columns))\n"
        }
      ],
      "execution_count": 2,
      "metadata": {
        "gather": {
          "logged": 1635339405823
        }
      }
    },
    {
      "cell_type": "code",
      "source": [
        "# Here we are going to divide the dataset into 2 parts - baseline and target based on cut off date.\r\n",
        "data_set = Dataset.get_by_name(ws, 'loan_ds')\r\n",
        "\r\n",
        "baseline_data_set = data_set.time_before(datetime(2010, 10, 1))\r\n",
        "\r\n",
        "target_data_set = data_set.time_after(datetime(2010, 10, 1))\r\n",
        "\r\n",
        "# set up data drift detector\r\n",
        "monitor = DataDriftDetector.create_from_datasets(ws, 'loan-ds-drift-monitor', baseline_data_set, target_data_set, \r\n",
        "                                                      compute_target='worker-cpu', \r\n",
        "                                                      frequency='Day')\r\n",
        "\r\n"
      ],
      "outputs": [],
      "execution_count": 6,
      "metadata": {
        "jupyter": {
          "source_hidden": false,
          "outputs_hidden": false
        },
        "nteract": {
          "transient": {
            "deleting": false
          }
        },
        "gather": {
          "logged": 1635339489904
        }
      }
    },
    {
      "cell_type": "code",
      "source": [
        "features = ['loan_amnt','emp_length', 'annual_inc', 'funded_amnt_inv', 'int_rate']\r\n",
        "\r\n",
        "# get data drift detector by name\r\n",
        "monitor = DataDriftDetector.get_by_name(ws, 'loan-ds-drift-monitor')\r\n",
        "\r\n",
        "# update data drift detector\r\n",
        "monitor = monitor.update(feature_list=features)\r\n",
        "\r\n",
        "seed = datetime(2010, 10, 1)\r\n",
        "\r\n",
        "backfill = any\r\n",
        "\r\n",
        "# run a backfill for 12 months\r\n",
        "for i in range(6):\r\n",
        "    start_date = seed\r\n",
        "    end_date = start_date + timedelta(days=30)\r\n",
        "    seed = end_date\r\n",
        "    backfill = monitor.backfill(start_date, end_date)\r\n",
        "    i+=1\r\n",
        "\r\n",
        "# make sure the backfill has completed\r\n",
        "backfill.wait_for_completion(wait_post_processing=True)\r\n",
        "\r\n",
        "# get results from Python SDK (wait for backfills or monitor runs to finish)\r\n",
        "results, metrics = monitor.get_output(start_time=datetime(year=2010, month=10, day=1))"
      ],
      "outputs": [
        {
          "output_type": "stream",
          "name": "stdout",
          "text": "Current state: Disabled\n"
        }
      ],
      "execution_count": 7,
      "metadata": {
        "jupyter": {
          "source_hidden": false,
          "outputs_hidden": false
        },
        "nteract": {
          "transient": {
            "deleting": false
          }
        },
        "gather": {
          "logged": 1635340730266
        }
      }
    },
    {
      "cell_type": "code",
      "source": [
        "# plot the results from Python SDK \r\n",
        "monitor.show(datetime(2010, 10, 31), datetime(2011, 10, 30))"
      ],
      "outputs": [
        {
          "output_type": "execute_result",
          "execution_count": 8,
          "data": {
            "text/plain": "{'loan-ds-drift-monitor': <Figure size 1440x576 with 2 Axes>}"
          },
          "metadata": {}
        },
        {
          "output_type": "display_data",
          "data": {
            "text/plain": "<Figure size 1440x576 with 2 Axes>",
            "image/png": "[encoded data removed]"
          },
          "metadata": {
            "needs_background": "light"
          }
        }
      ],
      "execution_count": 8,
      "metadata": {
        "jupyter": {
          "source_hidden": false,
          "outputs_hidden": false
        },
        "nteract": {
          "transient": {
            "deleting": false
          }
        },
        "gather": {
          "logged": 1635354475616
        }
      }
    },
    {
      "cell_type": "code",
      "source": [
        "monitor = DataDriftDetector.get_by_name(ws, 'loan-ds-drift-monitor')\r\n",
        "monitor.delete()"
      ],
      "outputs": [
        {
          "output_type": "stream",
          "name": "stdout",
          "text": "Current state: Deleting\n.State transitioning completed, status: Deleted\n"
        }
      ],
      "execution_count": 5,
      "metadata": {
        "jupyter": {
          "source_hidden": false,
          "outputs_hidden": false
        },
        "nteract": {
          "transient": {
            "deleting": false
          }
        },
        "gather": {
          "logged": 1635339460529
        }
      }
    },
    {
      "cell_type": "code",
      "source": [],
      "outputs": [],
      "execution_count": null,
      "metadata": {
        "jupyter": {
          "source_hidden": false,
          "outputs_hidden": false
        },
        "nteract": {
          "transient": {
            "deleting": false
          }
        }
      }
    }
  ],
  "metadata": {
    "kernelspec": {
      "name": "python3-azureml",
      "language": "python",
      "display_name": "Python 3.6 - AzureML"
    },
    "language_info": {
      "name": "python",
      "version": "3.6.9",
      "mimetype": "text/x-python",
      "codemirror_mode": {
        "name": "ipython",
        "version": 3
      },
      "pygments_lexer": "ipython3",
      "nbconvert_exporter": "python",
      "file_extension": ".py"
    },
    "kernel_info": {
      "name": "python3-azureml"
    },
    "microsoft": {
      "host": {
        "AzureML": {
          "notebookHasBeenCompleted": true
        }
      }
    },
    "nteract": {
      "version": "nteract-front-end@1.0.0"
    }
  },
  "nbformat": 4,
  "nbformat_minor": 0
}